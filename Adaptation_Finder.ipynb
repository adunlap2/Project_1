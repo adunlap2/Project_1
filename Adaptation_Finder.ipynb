{
 "cells": [
  {
   "cell_type": "code",
   "execution_count": 1,
   "id": "64173886",
   "metadata": {},
   "outputs": [],
   "source": [
    "import pandas as pd\n",
    "import matplotlib.pyplot as plt"
   ]
  },
  {
   "cell_type": "code",
   "execution_count": 2,
   "id": "07cd2afa",
   "metadata": {},
   "outputs": [],
   "source": [
    "manga_path = \"MAL-manga.csv\"\n",
    "anime_path = \"MAL-anime.csv\"\n",
    "\n",
    "manga_df = pd.read_csv(manga_path)\n",
    "anime_df = pd.read_csv(anime_path)"
   ]
  },
  {
   "cell_type": "code",
   "execution_count": 3,
   "id": "95f28743",
   "metadata": {},
   "outputs": [
    {
     "data": {
      "text/plain": [
       "array(['Manga', 'One-shot', 'Manhwa', 'Light-Novel', 'Doujinshi',\n",
       "       'Manhua', 'Novel'], dtype=object)"
      ]
     },
     "execution_count": 3,
     "metadata": {},
     "output_type": "execute_result"
    }
   ],
   "source": [
    "manga_df = manga_df.drop(columns=['Unnamed: 0', 'page_url',\"image_url\"])\n",
    "manga_df = manga_df.rename(columns={\"Rank\":\"Manga Rank\",\"Members\":\"Manga Votes\",\"Score\":\"Manga Score\"})\n",
    "manga_df[\"Type\"].unique()"
   ]
  },
  {
   "cell_type": "code",
   "execution_count": 4,
   "id": "533bafb5",
   "metadata": {},
   "outputs": [
    {
     "data": {
      "text/html": [
       "<div>\n",
       "<style scoped>\n",
       "    .dataframe tbody tr th:only-of-type {\n",
       "        vertical-align: middle;\n",
       "    }\n",
       "\n",
       "    .dataframe tbody tr th {\n",
       "        vertical-align: top;\n",
       "    }\n",
       "\n",
       "    .dataframe thead th {\n",
       "        text-align: right;\n",
       "    }\n",
       "</style>\n",
       "<table border=\"1\" class=\"dataframe\">\n",
       "  <thead>\n",
       "    <tr style=\"text-align: right;\">\n",
       "      <th></th>\n",
       "      <th>Title</th>\n",
       "      <th>Anime Rank</th>\n",
       "      <th>Adaptation Type</th>\n",
       "      <th>Episodes</th>\n",
       "      <th>Aired</th>\n",
       "      <th>Anime Votes</th>\n",
       "      <th>Anime Score</th>\n",
       "    </tr>\n",
       "  </thead>\n",
       "  <tbody>\n",
       "    <tr>\n",
       "      <th>0</th>\n",
       "      <td>Net-juu no Susume</td>\n",
       "      <td>1568</td>\n",
       "      <td>TV</td>\n",
       "      <td>10</td>\n",
       "      <td>Oct 2017 - Dec 2017</td>\n",
       "      <td>450968</td>\n",
       "      <td>7.55</td>\n",
       "    </tr>\n",
       "    <tr>\n",
       "      <th>1</th>\n",
       "      <td>Neon Genesis Evangelion: The End of Evangelion</td>\n",
       "      <td>99</td>\n",
       "      <td>Movie</td>\n",
       "      <td>1</td>\n",
       "      <td>Jul 1997 - Jul 1997</td>\n",
       "      <td>883576</td>\n",
       "      <td>8.55</td>\n",
       "    </tr>\n",
       "    <tr>\n",
       "      <th>2</th>\n",
       "      <td>Templex</td>\n",
       "      <td>11445</td>\n",
       "      <td>Movie</td>\n",
       "      <td>1</td>\n",
       "      <td>2015 - 2015</td>\n",
       "      <td>538</td>\n",
       "      <td>5.29</td>\n",
       "    </tr>\n",
       "    <tr>\n",
       "      <th>3</th>\n",
       "      <td>s.CRY.ed</td>\n",
       "      <td>2248</td>\n",
       "      <td>TV</td>\n",
       "      <td>26</td>\n",
       "      <td>Jul 2001 - Dec 2001</td>\n",
       "      <td>81283</td>\n",
       "      <td>7.36</td>\n",
       "    </tr>\n",
       "    <tr>\n",
       "      <th>4</th>\n",
       "      <td>Toaru Majutsu no Index-tan III</td>\n",
       "      <td>6679</td>\n",
       "      <td>Special</td>\n",
       "      <td>2</td>\n",
       "      <td>Dec 2018 - Apr 2019</td>\n",
       "      <td>11370</td>\n",
       "      <td>6.44</td>\n",
       "    </tr>\n",
       "  </tbody>\n",
       "</table>\n",
       "</div>"
      ],
      "text/plain": [
       "                                            Title  Anime Rank Adaptation Type  \\\n",
       "0                               Net-juu no Susume        1568              TV   \n",
       "1  Neon Genesis Evangelion: The End of Evangelion          99           Movie   \n",
       "2                                         Templex       11445           Movie   \n",
       "3                                        s.CRY.ed        2248              TV   \n",
       "4                  Toaru Majutsu no Index-tan III        6679         Special   \n",
       "\n",
       "  Episodes                Aired  Anime Votes  Anime Score  \n",
       "0       10  Oct 2017 - Dec 2017       450968         7.55  \n",
       "1        1  Jul 1997 - Jul 1997       883576         8.55  \n",
       "2        1          2015 - 2015          538         5.29  \n",
       "3       26  Jul 2001 - Dec 2001        81283         7.36  \n",
       "4        2  Dec 2018 - Apr 2019        11370         6.44  "
      ]
     },
     "execution_count": 4,
     "metadata": {},
     "output_type": "execute_result"
    }
   ],
   "source": [
    "anime_df = anime_df.drop(columns=['Unnamed: 0', 'page_url',\"image_url\"])\n",
    "anime_df = anime_df.rename(columns={\"Rank\":\"Anime Rank\",\"Members\":\"Anime Votes\",\"Score\":\"Anime Score\",\"Type\":\"Adaptation Type\"})\n",
    "anime_df.head()"
   ]
  },
  {
   "cell_type": "code",
   "execution_count": 5,
   "id": "a306df22",
   "metadata": {},
   "outputs": [
    {
     "data": {
      "text/plain": [
       "Title              1784\n",
       "Anime Rank         1784\n",
       "Adaptation Type    1784\n",
       "Episodes           1784\n",
       "Aired              1784\n",
       "Anime Votes        1784\n",
       "Anime Score        1784\n",
       "Manga Rank         1784\n",
       "Type               1784\n",
       "Volumes            1784\n",
       "Published          1784\n",
       "Manga Votes        1784\n",
       "Manga Score        1784\n",
       "dtype: int64"
      ]
     },
     "execution_count": 5,
     "metadata": {},
     "output_type": "execute_result"
    }
   ],
   "source": [
    "merged_df = pd.merge(anime_df, manga_df, on=\"Title\")\n",
    "merged_df = merged_df.loc[merged_df[\"Type\"] != \"Light-Novel\"]\n",
    "merged_df.count()"
   ]
  },
  {
   "cell_type": "code",
   "execution_count": 6,
   "id": "612a91b0",
   "metadata": {},
   "outputs": [],
   "source": [
    "merged_df.to_csv(\"same_title_adaptations.csv\")"
   ]
  },
  {
   "cell_type": "code",
   "execution_count": null,
   "id": "f8cb7461",
   "metadata": {},
   "outputs": [],
   "source": []
  }
 ],
 "metadata": {
  "kernelspec": {
   "display_name": "Python 3 (ipykernel)",
   "language": "python",
   "name": "python3"
  },
  "language_info": {
   "codemirror_mode": {
    "name": "ipython",
    "version": 3
   },
   "file_extension": ".py",
   "mimetype": "text/x-python",
   "name": "python",
   "nbconvert_exporter": "python",
   "pygments_lexer": "ipython3",
   "version": "3.10.13"
  }
 },
 "nbformat": 4,
 "nbformat_minor": 5
}
