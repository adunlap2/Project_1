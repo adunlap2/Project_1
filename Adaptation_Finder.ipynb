{
 "cells": [
  {
   "cell_type": "code",
   "execution_count": 2,
   "id": "64173886",
   "metadata": {},
   "outputs": [],
   "source": [
    "import pandas as pd\n",
    "import matplotlib.pyplot as plt"
   ]
  },
  {
   "cell_type": "code",
   "execution_count": 3,
   "id": "07cd2afa",
   "metadata": {},
   "outputs": [],
   "source": [
    "manga_path = \"MAL-manga.csv\"\n",
    "anime_path = \"MAL-anime.csv\"\n",
    "\n",
    "manga_df = pd.read_csv(manga_path)\n",
    "anime_df = pd.read_csv(anime_path)"
   ]
  },
  {
   "cell_type": "code",
   "execution_count": 4,
   "id": "95f28743",
   "metadata": {},
   "outputs": [
    {
     "data": {
      "text/plain": [
       "array(['Manga', 'One-shot', 'Manhwa', 'Light-Novel', 'Doujinshi',\n",
       "       'Manhua', 'Novel'], dtype=object)"
      ]
     },
     "execution_count": 4,
     "metadata": {},
     "output_type": "execute_result"
    }
   ],
   "source": [
    "manga_df = manga_df.drop(columns=['Unnamed: 0', 'page_url',\"image_url\"])\n",
    "manga_df = manga_df.rename(columns={\"Rank\":\"Manga Rank\",\"Members\":\"Manga Votes\",\"Score\":\"Manga Score\"})\n",
    "manga_df[\"Type\"].unique()"
   ]
  },
  {
   "cell_type": "code",
   "execution_count": 5,
   "id": "533bafb5",
   "metadata": {},
   "outputs": [
    {
     "data": {
      "text/plain": [
       "Title              12774\n",
       "Anime Rank         12774\n",
       "Adaptation Type    12774\n",
       "Episodes           12774\n",
       "Aired              12774\n",
       "Anime Votes        12774\n",
       "Anime Score        12774\n",
       "dtype: int64"
      ]
     },
     "execution_count": 5,
     "metadata": {},
     "output_type": "execute_result"
    }
   ],
   "source": [
    "anime_df = anime_df.drop(columns=['Unnamed: 0', 'page_url',\"image_url\"])\n",
    "anime_df = anime_df.rename(columns={\"Rank\":\"Anime Rank\",\"Members\":\"Anime Votes\",\"Score\":\"Anime Score\",\"Type\":\"Adaptation Type\"})\n",
    "anime_df.count()"
   ]
  },
  {
   "cell_type": "code",
   "execution_count": 5,
   "id": "a306df22",
   "metadata": {},
   "outputs": [
    {
     "data": {
      "text/plain": [
       "Title              1784\n",
       "Anime Rank         1784\n",
       "Adaptation Type    1784\n",
       "Episodes           1784\n",
       "Aired              1784\n",
       "Anime Votes        1784\n",
       "Anime Score        1784\n",
       "Manga Rank         1784\n",
       "Type               1784\n",
       "Volumes            1784\n",
       "Published          1784\n",
       "Manga Votes        1784\n",
       "Manga Score        1784\n",
       "dtype: int64"
      ]
     },
     "execution_count": 5,
     "metadata": {},
     "output_type": "execute_result"
    }
   ],
   "source": [
    "merged_df = pd.merge(anime_df, manga_df, on=\"Title\")\n",
    "merged_df = merged_df.loc[merged_df[\"Type\"] != \"Light-Novel\"]\n",
    "merged_df.count()"
   ]
  },
  {
   "cell_type": "code",
   "execution_count": 6,
   "id": "612a91b0",
   "metadata": {},
   "outputs": [],
   "source": [
    "merged_df.to_csv(\"same_title_adaptations.csv\")"
   ]
  },
  {
   "cell_type": "code",
   "execution_count": null,
   "id": "f8cb7461",
   "metadata": {},
   "outputs": [],
   "source": []
  }
 ],
 "metadata": {
  "kernelspec": {
   "display_name": "Python 3 (ipykernel)",
   "language": "python",
   "name": "python3"
  },
  "language_info": {
   "codemirror_mode": {
    "name": "ipython",
    "version": 3
   },
   "file_extension": ".py",
   "mimetype": "text/x-python",
   "name": "python",
   "nbconvert_exporter": "python",
   "pygments_lexer": "ipython3",
   "version": "3.10.13"
  }
 },
 "nbformat": 4,
 "nbformat_minor": 5
}
